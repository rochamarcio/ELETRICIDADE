{
 "cells": [
  {
   "cell_type": "markdown",
   "metadata": {},
   "source": [
    "# Eletricidade - Clusterização :\n",
    "\n",
    "#### Marcio Carvalho\n",
    "\n",
    "### Problema de negócio: \n",
    "\n",
    "##### Aneel - órgão regulador. Sabemos o consumo por estado, não conhecemos o perfil do cliente. Precisamos agrupar o perfil do cliente de acordo com o nível de consumo independe de onde eles moram, pois, queremos fazer uma atividade de marketing direcionada. Precisamos construir uma Máquina Preditiva (MP), a partir do consumo de energia de cliente. Agrupe os consumidores por similaridades, afim de compreender o comportamento dos clientes e sua relação com o consumo de energia (Simulação como se cada linha representasse vários clientes).\n",
    "\n",
    "### Coleta:\n",
    "\n",
    "https://archive.ics.uci.edu/dataset/235/individual+household+electric+power+consumption\n",
    "\n",
    "### Dataset:\n",
    "         \n",
    "##### Este arquivo contém 2.075.259 medições coletadas em uma casa localizada em Sceaux (7km de Paris, França) entre dezembro de 2006 e novembro de 2010 (47 meses).\n",
    "\n",
    "### Features:\n",
    "\n",
    "1.data: Data no formato dd/mm/aaaa\n",
    "\n",
    "2.time: hora no formato hh:mm:ss\n",
    "\n",
    "3.global_active_power: potência ativa média global doméstica por minuto (em quilowatts)\n",
    "\n",
    "4.global_reactive_power: potência reativa média global doméstica por minuto (em quilowatts)\n",
    "\n",
    "5.tensão: tensão média por minuto (em volts)\n",
    "\n",
    "6.global_intensity: intensidade de corrente média global por minuto doméstica (em amperes)\n",
    "\n",
    "7.sub_metering_1: sub medição de energia nº 1 (em watt-hora de energia ativa). Corresponde à cozinha, contendo maioritariamente uma máquina de lavar louça, um forno e um micro-ondas (as placas não são eléctricas mas sim a gás).\n",
    "\n",
    "8.sub_metering_2: sub medição de energia nº 2 (em watt-hora de energia ativa). Corresponde à lavandaria, contendo máquina de lavar roupa, máquina de secar roupa, frigorífico e luz.\n",
    "\n",
    "9.sub_metering_3: sub medição de energia nº 3 (em watt-hora de energia ativa). Corresponde a um esquentador eléctrico e a um ar condicionado.\n",
    "\n",
    "\n",
    "     \n",
    "\n",
    "   "
   ]
  },
  {
   "cell_type": "code",
   "execution_count": 61,
   "metadata": {},
   "outputs": [],
   "source": [
    "import pandas as pd\n",
    "import numpy as np\n",
    "import warnings\n",
    "import datetime as dt\n",
    "warnings.filterwarnings('ignore')"
   ]
  },
  {
   "cell_type": "code",
   "execution_count": 9,
   "metadata": {},
   "outputs": [
    {
     "data": {
      "text/html": [
       "<div>\n",
       "<style scoped>\n",
       "    .dataframe tbody tr th:only-of-type {\n",
       "        vertical-align: middle;\n",
       "    }\n",
       "\n",
       "    .dataframe tbody tr th {\n",
       "        vertical-align: top;\n",
       "    }\n",
       "\n",
       "    .dataframe thead th {\n",
       "        text-align: right;\n",
       "    }\n",
       "</style>\n",
       "<table border=\"1\" class=\"dataframe\">\n",
       "  <thead>\n",
       "    <tr style=\"text-align: right;\">\n",
       "      <th></th>\n",
       "      <th>Data</th>\n",
       "      <th>Tempo</th>\n",
       "      <th>Potencia_ativa_total</th>\n",
       "      <th>Potencia_reativa_total</th>\n",
       "      <th>Tensao</th>\n",
       "      <th>Corrente_Total</th>\n",
       "      <th>Sub_area_cozinha</th>\n",
       "      <th>Sub_area_lavanderia</th>\n",
       "      <th>Sub_area_Aq_Ar</th>\n",
       "    </tr>\n",
       "  </thead>\n",
       "  <tbody>\n",
       "    <tr>\n",
       "      <th>0</th>\n",
       "      <td>16/12/2006</td>\n",
       "      <td>17:24:00</td>\n",
       "      <td>4.216</td>\n",
       "      <td>0.418</td>\n",
       "      <td>234.840</td>\n",
       "      <td>18.400</td>\n",
       "      <td>0.000</td>\n",
       "      <td>1.000</td>\n",
       "      <td>17.0</td>\n",
       "    </tr>\n",
       "    <tr>\n",
       "      <th>1</th>\n",
       "      <td>16/12/2006</td>\n",
       "      <td>17:25:00</td>\n",
       "      <td>5.360</td>\n",
       "      <td>0.436</td>\n",
       "      <td>233.630</td>\n",
       "      <td>23.000</td>\n",
       "      <td>0.000</td>\n",
       "      <td>1.000</td>\n",
       "      <td>16.0</td>\n",
       "    </tr>\n",
       "    <tr>\n",
       "      <th>2</th>\n",
       "      <td>16/12/2006</td>\n",
       "      <td>17:26:00</td>\n",
       "      <td>5.374</td>\n",
       "      <td>0.498</td>\n",
       "      <td>233.290</td>\n",
       "      <td>23.000</td>\n",
       "      <td>0.000</td>\n",
       "      <td>2.000</td>\n",
       "      <td>17.0</td>\n",
       "    </tr>\n",
       "    <tr>\n",
       "      <th>3</th>\n",
       "      <td>16/12/2006</td>\n",
       "      <td>17:27:00</td>\n",
       "      <td>5.388</td>\n",
       "      <td>0.502</td>\n",
       "      <td>233.740</td>\n",
       "      <td>23.000</td>\n",
       "      <td>0.000</td>\n",
       "      <td>1.000</td>\n",
       "      <td>17.0</td>\n",
       "    </tr>\n",
       "    <tr>\n",
       "      <th>4</th>\n",
       "      <td>16/12/2006</td>\n",
       "      <td>17:28:00</td>\n",
       "      <td>3.666</td>\n",
       "      <td>0.528</td>\n",
       "      <td>235.680</td>\n",
       "      <td>15.800</td>\n",
       "      <td>0.000</td>\n",
       "      <td>1.000</td>\n",
       "      <td>17.0</td>\n",
       "    </tr>\n",
       "  </tbody>\n",
       "</table>\n",
       "</div>"
      ],
      "text/plain": [
       "         Data     Tempo Potencia_ativa_total Potencia_reativa_total   Tensao  \\\n",
       "0  16/12/2006  17:24:00                4.216                  0.418  234.840   \n",
       "1  16/12/2006  17:25:00                5.360                  0.436  233.630   \n",
       "2  16/12/2006  17:26:00                5.374                  0.498  233.290   \n",
       "3  16/12/2006  17:27:00                5.388                  0.502  233.740   \n",
       "4  16/12/2006  17:28:00                3.666                  0.528  235.680   \n",
       "\n",
       "  Corrente_Total Sub_area_cozinha Sub_area_lavanderia  Sub_area_Aq_Ar  \n",
       "0         18.400            0.000               1.000            17.0  \n",
       "1         23.000            0.000               1.000            16.0  \n",
       "2         23.000            0.000               2.000            17.0  \n",
       "3         23.000            0.000               1.000            17.0  \n",
       "4         15.800            0.000               1.000            17.0  "
      ]
     },
     "execution_count": 9,
     "metadata": {},
     "output_type": "execute_result"
    }
   ],
   "source": [
    "df = pd.read_table('../data/household_power_consumption.txt', sep=\";\")\n",
    "df.columns = ['Data','Tempo','Potencia_ativa_total','Potencia_reativa_total','Tensao','Corrente_Total','Sub_area_cozinha','Sub_area_lavanderia','Sub_area_Aq_Ar']\n",
    "df.head()"
   ]
  },
  {
   "cell_type": "code",
   "execution_count": 88,
   "metadata": {},
   "outputs": [],
   "source": [
    "df_cop = df.copy()"
   ]
  },
  {
   "cell_type": "code",
   "execution_count": 89,
   "metadata": {},
   "outputs": [
    {
     "name": "stdout",
     "output_type": "stream",
     "text": [
      "<class 'pandas.core.frame.DataFrame'>\n",
      "RangeIndex: 2075259 entries, 0 to 2075258\n",
      "Data columns (total 9 columns):\n",
      " #   Column                  Dtype  \n",
      "---  ------                  -----  \n",
      " 0   Data                    object \n",
      " 1   Tempo                   object \n",
      " 2   Potencia_ativa_total    object \n",
      " 3   Potencia_reativa_total  object \n",
      " 4   Tensao                  object \n",
      " 5   Corrente_Total          object \n",
      " 6   Sub_area_cozinha        object \n",
      " 7   Sub_area_lavanderia     object \n",
      " 8   Sub_area_Aq_Ar          float64\n",
      "dtypes: float64(1), object(8)\n",
      "memory usage: 142.5+ MB\n"
     ]
    }
   ],
   "source": [
    "df.info()"
   ]
  },
  {
   "cell_type": "code",
   "execution_count": 90,
   "metadata": {},
   "outputs": [
    {
     "data": {
      "text/plain": [
       "Data                          0\n",
       "Tempo                         0\n",
       "Potencia_ativa_total          0\n",
       "Potencia_reativa_total        0\n",
       "Tensao                        0\n",
       "Corrente_Total                0\n",
       "Sub_area_cozinha              0\n",
       "Sub_area_lavanderia           0\n",
       "Sub_area_Aq_Ar            25979\n",
       "dtype: int64"
      ]
     },
     "execution_count": 90,
     "metadata": {},
     "output_type": "execute_result"
    }
   ],
   "source": [
    "df_cop.isnull().sum()"
   ]
  },
  {
   "cell_type": "code",
   "execution_count": 91,
   "metadata": {},
   "outputs": [
    {
     "name": "stdout",
     "output_type": "stream",
     "text": [
      "A coluna Potencia_ativa_total contém pelo menos um ponto de interrogação.\n",
      "A coluna Potencia_reativa_total contém pelo menos um ponto de interrogação.\n",
      "A coluna Tensao contém pelo menos um ponto de interrogação.\n",
      "A coluna Corrente_Total contém pelo menos um ponto de interrogação.\n",
      "A coluna Sub_area_cozinha contém pelo menos um ponto de interrogação.\n",
      "A coluna Sub_area_lavanderia contém pelo menos um ponto de interrogação.\n",
      "<class 'pandas.core.frame.DataFrame'>\n",
      "RangeIndex: 2075259 entries, 0 to 2075258\n",
      "Data columns (total 9 columns):\n",
      " #   Column                  Dtype  \n",
      "---  ------                  -----  \n",
      " 0   Data                    object \n",
      " 1   Tempo                   object \n",
      " 2   Potencia_ativa_total    float64\n",
      " 3   Potencia_reativa_total  float64\n",
      " 4   Tensao                  float64\n",
      " 5   Corrente_Total          float64\n",
      " 6   Sub_area_cozinha        float64\n",
      " 7   Sub_area_lavanderia     float64\n",
      " 8   Sub_area_Aq_Ar          float64\n",
      "dtypes: float64(7), object(2)\n",
      "memory usage: 142.5+ MB\n"
     ]
    }
   ],
   "source": [
    "cat_esp = df.applymap(lambda x: '?' in str(x))\n",
    "for coluna in cat_esp.columns:\n",
    "    if cat_esp[coluna].any():\n",
    "        try:\n",
    "            df_cop[coluna] = df_cop[coluna].replace('?' , np.nan).astype(float)\n",
    "            print(f'A coluna {coluna} contém pelo menos um ponto de interrogação.')\n",
    "        except:\n",
    "           continue\n",
    "df_cop.info()"
   ]
  },
  {
   "cell_type": "code",
   "execution_count": 92,
   "metadata": {},
   "outputs": [
    {
     "name": "stdout",
     "output_type": "stream",
     "text": [
      "<class 'pandas.core.frame.DataFrame'>\n",
      "RangeIndex: 2075259 entries, 0 to 2075258\n",
      "Data columns (total 9 columns):\n",
      " #   Column                  Dtype         \n",
      "---  ------                  -----         \n",
      " 0   Data                    datetime64[ns]\n",
      " 1   Tempo                   datetime64[ns]\n",
      " 2   Potencia_ativa_total    float64       \n",
      " 3   Potencia_reativa_total  float64       \n",
      " 4   Tensao                  float64       \n",
      " 5   Corrente_Total          float64       \n",
      " 6   Sub_area_cozinha        float64       \n",
      " 7   Sub_area_lavanderia     float64       \n",
      " 8   Sub_area_Aq_Ar          float64       \n",
      "dtypes: datetime64[ns](2), float64(7)\n",
      "memory usage: 142.5 MB\n"
     ]
    }
   ],
   "source": [
    "df_cop['Data']= pd.to_datetime(df_cop['Data'], format='%d/%m/%Y')\n",
    "df_cop['Tempo']= pd.to_datetime(df_cop['Tempo'], format='%H:%M:%S')\n",
    "df_cop.info()"
   ]
  },
  {
   "cell_type": "code",
   "execution_count": 93,
   "metadata": {},
   "outputs": [
    {
     "data": {
      "text/plain": [
       "Data                          0\n",
       "Tempo                         0\n",
       "Potencia_ativa_total      25979\n",
       "Potencia_reativa_total    25979\n",
       "Tensao                    25979\n",
       "Corrente_Total            25979\n",
       "Sub_area_cozinha          25979\n",
       "Sub_area_lavanderia       25979\n",
       "Sub_area_Aq_Ar            25979\n",
       "dtype: int64"
      ]
     },
     "execution_count": 93,
     "metadata": {},
     "output_type": "execute_result"
    }
   ],
   "source": [
    "df_cop.isnull().sum()"
   ]
  }
 ],
 "metadata": {
  "kernelspec": {
   "display_name": ".electric",
   "language": "python",
   "name": "python3"
  },
  "language_info": {
   "codemirror_mode": {
    "name": "ipython",
    "version": 3
   },
   "file_extension": ".py",
   "mimetype": "text/x-python",
   "name": "python",
   "nbconvert_exporter": "python",
   "pygments_lexer": "ipython3",
   "version": "3.11.3"
  }
 },
 "nbformat": 4,
 "nbformat_minor": 2
}
